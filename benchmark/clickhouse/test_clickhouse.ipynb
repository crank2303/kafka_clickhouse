{
 "cells": [
  {
   "cell_type": "code",
   "execution_count": 1,
   "metadata": {},
   "outputs": [
    {
     "name": "stdout",
     "output_type": "stream",
     "text": [
      "[sudo] пароль для alexey: \u001b[33mWARN\u001b[0m[0000] Found orphan containers ([clickhouse-node4 clickhouse-node1 clickhouse-node3 clickhouse-node2 zookeeper]) for this project. If you removed or renamed this service in your compose file, you can run this command with the --remove-orphans flag to clean it up. \n",
      "\u001b[1A\u001b[1B\u001b[0G\u001b[?25l[+] Running 0/0\n",
      " ⠋ Container clickhouse  \u001b[39mCreating\u001b[0m                                          \u001b[34m0.1s \u001b[0m\n",
      "\u001b[?25h\u001b[1A\u001b[1A\u001b[0G\u001b[?25l[+] Running 0/1\n",
      " ⠿ Container clickhouse  \u001b[39mStarting\u001b[0m                                          \u001b[34m0.2s \u001b[0m\n",
      "\u001b[?25h\u001b[1A\u001b[1A\u001b[0G\u001b[?25l[+] Running 0/1\n",
      " ⠿ Container clickhouse  \u001b[39mStarting\u001b[0m                                          \u001b[34m0.3s \u001b[0m\n",
      "\u001b[?25h\u001b[1A\u001b[1A\u001b[0G\u001b[?25l[+] Running 0/1\n",
      " ⠿ Container clickhouse  \u001b[39mStarting\u001b[0m                                          \u001b[34m0.4s \u001b[0m\n",
      "\u001b[?25h\u001b[1A\u001b[1A\u001b[0G\u001b[?25l[+] Running 0/1\n",
      " ⠿ Container clickhouse  \u001b[39mStarting\u001b[0m                                          \u001b[34m0.5s \u001b[0m\n",
      "\u001b[?25h\u001b[1A\u001b[1A\u001b[0G\u001b[?25l[+] Running 0/1\n",
      " ⠿ Container clickhouse  \u001b[39mStarting\u001b[0m                                          \u001b[34m0.6s \u001b[0m\n",
      "\u001b[?25h\u001b[1A\u001b[1A\u001b[0G\u001b[?25l[+] Running 0/1\n",
      " ⠿ Container clickhouse  \u001b[39mStarting\u001b[0m                                          \u001b[34m0.7s \u001b[0m\n",
      "\u001b[?25h\u001b[1A\u001b[1A\u001b[0G\u001b[?25l[+] Running 0/1\n",
      " ⠿ Container clickhouse  \u001b[39mStarting\u001b[0m                                          \u001b[34m0.8s \u001b[0m\n",
      "\u001b[?25h\u001b[1A\u001b[1A\u001b[0G\u001b[?25l\u001b[34m[+] Running 1/1\u001b[0m\n",
      " \u001b[32m✔\u001b[0m Container clickhouse  \u001b[32mStarted\u001b[0m                                           \u001b[34m0.8s \u001b[0m\n",
      "\u001b[?25h"
     ]
    }
   ],
   "source": [
    "!docker compose up -d"
   ]
  },
  {
   "cell_type": "code",
   "execution_count": 15,
   "metadata": {},
   "outputs": [
    {
     "name": "stdout",
     "output_type": "stream",
     "text": [
      "[sudo] пароль для alexey: \u001b[1A\u001b[1B\u001b[0G\u001b[?25l[+] Running 0/0\n",
      " ⠋ Container clickhouse  \u001b[39mStopping\u001b[0m                                          \u001b[34m0.1s \u001b[0m\n",
      "\u001b[?25h\u001b[1A\u001b[1A\u001b[0G\u001b[?25l[+] Running 0/1\n",
      " ⠙ Container clickhouse  \u001b[39mStopping\u001b[0m                                          \u001b[34m0.2s \u001b[0m\n",
      "\u001b[?25h\u001b[1A\u001b[1A\u001b[0G\u001b[?25l[+] Running 0/1\n",
      " ⠹ Container clickhouse  \u001b[39mStopping\u001b[0m                                          \u001b[34m0.3s \u001b[0m\n",
      "\u001b[?25h\u001b[1A\u001b[1A\u001b[0G\u001b[?25l[+] Running 0/1\n",
      " ⠸ Container clickhouse  \u001b[39mStopping\u001b[0m                                          \u001b[34m0.4s \u001b[0m\n",
      "\u001b[?25h\u001b[1A\u001b[1A\u001b[0G\u001b[?25l[+] Running 0/1\n",
      " ⠼ Container clickhouse  \u001b[39mStopping\u001b[0m                                          \u001b[34m0.5s \u001b[0m\n",
      "\u001b[?25h\u001b[1A\u001b[1A\u001b[0G\u001b[?25l[+] Running 0/1\n",
      " ⠴ Container clickhouse  \u001b[39mStopping\u001b[0m                                          \u001b[34m0.6s \u001b[0m\n",
      "\u001b[?25h\u001b[1A\u001b[1A\u001b[0G\u001b[?25l[+] Running 0/1\n",
      " ⠦ Container clickhouse  \u001b[39mStopping\u001b[0m                                          \u001b[34m0.7s \u001b[0m\n",
      "\u001b[?25h\u001b[1A\u001b[1A\u001b[0G\u001b[?25l[+] Running 0/1\n",
      " ⠧ Container clickhouse  \u001b[39mStopping\u001b[0m                                          \u001b[34m0.8s \u001b[0m\n",
      "\u001b[?25h\u001b[1A\u001b[1A\u001b[0G\u001b[?25l[+] Running 0/1\n",
      " ⠇ Container clickhouse  \u001b[39mStopping\u001b[0m                                          \u001b[34m0.9s \u001b[0m\n",
      "\u001b[?25h\u001b[1A\u001b[1A\u001b[0G\u001b[?25l[+] Running 0/1\n",
      " ⠏ Container clickhouse  \u001b[39mStopping\u001b[0m                                          \u001b[34m1.0s \u001b[0m\n",
      "\u001b[?25h\u001b[1A\u001b[1A\u001b[0G\u001b[?25l[+] Running 0/1\n",
      " ⠋ Container clickhouse  \u001b[39mStopping\u001b[0m                                          \u001b[34m1.1s \u001b[0m\n",
      "\u001b[?25h\u001b[1A\u001b[1A\u001b[0G\u001b[?25l[+] Running 0/1\n",
      " ⠙ Container clickhouse  \u001b[39mStopping\u001b[0m                                          \u001b[34m1.2s \u001b[0m\n",
      "\u001b[?25h\u001b[1A\u001b[1A\u001b[0G\u001b[?25l[+] Running 0/1\n",
      " ⠹ Container clickhouse  \u001b[39mStopping\u001b[0m                                          \u001b[34m1.3s \u001b[0m\n",
      "\u001b[?25h\u001b[1A\u001b[1A\u001b[0G\u001b[?25l[+] Running 0/1\n",
      " ⠸ Container clickhouse  \u001b[39mStopping\u001b[0m                                          \u001b[34m1.4s \u001b[0m\n",
      "\u001b[?25h\u001b[1A\u001b[1A\u001b[0G\u001b[?25l[+] Running 0/1\n",
      " ⠼ Container clickhouse  \u001b[39mStopping\u001b[0m                                          \u001b[34m1.5s \u001b[0m\n",
      "\u001b[?25h\u001b[1A\u001b[1A\u001b[0G\u001b[?25l[+] Running 0/1\n",
      " ⠴ Container clickhouse  \u001b[39mStopping\u001b[0m                                          \u001b[34m1.6s \u001b[0m\n",
      "\u001b[?25h\u001b[1A\u001b[1A\u001b[0G\u001b[?25l[+] Running 0/1\n",
      " ⠦ Container clickhouse  \u001b[39mStopping\u001b[0m                                          \u001b[34m1.7s \u001b[0m\n",
      "\u001b[?25h\u001b[1A\u001b[1A\u001b[0G\u001b[?25l[+] Running 0/1\n",
      " ⠧ Container clickhouse  \u001b[39mStopping\u001b[0m                                          \u001b[34m1.8s \u001b[0m\n",
      "\u001b[?25h\u001b[1A\u001b[1A\u001b[0G\u001b[?25l[+] Running 0/1\n",
      " ⠇ Container clickhouse  \u001b[39mStopping\u001b[0m                                          \u001b[34m1.9s \u001b[0m\n",
      "\u001b[?25h\u001b[1A\u001b[1A\u001b[0G\u001b[?25l[+] Running 0/1\n",
      " ⠏ Container clickhouse  \u001b[39mStopping\u001b[0m                                          \u001b[34m2.0s \u001b[0m\n",
      "\u001b[?25h\u001b[1A\u001b[1A\u001b[0G\u001b[?25l[+] Running 0/1\n",
      " ⠋ Container clickhouse  \u001b[39mStopping\u001b[0m                                          \u001b[34m2.1s \u001b[0m\n",
      "\u001b[?25h\u001b[1A\u001b[1A\u001b[0G\u001b[?25l[+] Running 0/1\n",
      " ⠙ Container clickhouse  \u001b[39mStopping\u001b[0m                                          \u001b[34m2.2s \u001b[0m\n",
      "\u001b[?25h\u001b[1A\u001b[1A\u001b[0G\u001b[?25l[+] Running 0/1\n",
      " ⠹ Container clickhouse  \u001b[39mStopping\u001b[0m                                          \u001b[34m2.3s \u001b[0m\n",
      "\u001b[?25h\u001b[1A\u001b[1A\u001b[0G\u001b[?25l[+] Running 0/1\n",
      " ⠸ Container clickhouse  \u001b[39mStopping\u001b[0m                                          \u001b[34m2.4s \u001b[0m\n",
      "\u001b[?25h\u001b[1A\u001b[1A\u001b[0G\u001b[?25l[+] Running 0/1\n",
      " ⠼ Container clickhouse  \u001b[39mStopping\u001b[0m                                          \u001b[34m2.5s \u001b[0m\n",
      "\u001b[?25h\u001b[1A\u001b[1A\u001b[0G\u001b[?25l[+] Running 0/1\n",
      " ⠴ Container clickhouse  \u001b[39mStopping\u001b[0m                                          \u001b[34m2.6s \u001b[0m\n",
      "\u001b[?25h\u001b[1A\u001b[1A\u001b[0G\u001b[?25l[+] Running 0/1\n",
      " ⠦ Container clickhouse  \u001b[39mStopping\u001b[0m                                          \u001b[34m2.7s \u001b[0m\n",
      "\u001b[?25h\u001b[1A\u001b[1A\u001b[0G\u001b[?25l[+] Running 0/1\n",
      " ⠧ Container clickhouse  \u001b[39mStopping\u001b[0m                                          \u001b[34m2.8s \u001b[0m\n",
      "\u001b[?25h\u001b[1A\u001b[1A\u001b[0G\u001b[?25l[+] Running 0/1\n",
      " ⠇ Container clickhouse  \u001b[39mStopping\u001b[0m                                          \u001b[34m2.9s \u001b[0m\n",
      "\u001b[?25h\u001b[1A\u001b[1A\u001b[0G\u001b[?25l[+] Running 0/1\n",
      " ⠏ Container clickhouse  \u001b[39mStopping\u001b[0m                                          \u001b[34m3.0s \u001b[0m\n",
      "\u001b[?25h\u001b[1A\u001b[1A\u001b[0G\u001b[?25l[+] Running 0/1\n",
      " ⠋ Container clickhouse  \u001b[39mStopping\u001b[0m                                          \u001b[34m3.1s \u001b[0m\n",
      "\u001b[?25h\u001b[1A\u001b[1A\u001b[0G\u001b[?25l[+] Running 0/1\n",
      " ⠙ Container clickhouse  \u001b[39mStopping\u001b[0m                                          \u001b[34m3.2s \u001b[0m\n",
      "\u001b[?25h\u001b[1A\u001b[1A\u001b[0G\u001b[?25l[+] Running 0/1\n",
      " ⠹ Container clickhouse  \u001b[39mStopping\u001b[0m                                          \u001b[34m3.3s \u001b[0m\n",
      "\u001b[?25h\u001b[1A\u001b[1A\u001b[0G\u001b[?25l[+] Running 0/1\n",
      " ⠸ Container clickhouse  \u001b[39mStopping\u001b[0m                                          \u001b[34m3.4s \u001b[0m\n",
      "\u001b[?25h\u001b[1A\u001b[1A\u001b[0G\u001b[?25l[+] Running 0/1\n",
      " ⠼ Container clickhouse  \u001b[39mStopping\u001b[0m                                          \u001b[34m3.5s \u001b[0m\n",
      "\u001b[?25h\u001b[1A\u001b[1A\u001b[0G\u001b[?25l[+] Running 0/1\n",
      " ⠴ Container clickhouse  \u001b[39mStopping\u001b[0m                                          \u001b[34m3.6s \u001b[0m\n",
      "\u001b[?25h\u001b[1A\u001b[1A\u001b[0G\u001b[?25l[+] Running 0/1\n",
      " ⠦ Container clickhouse  \u001b[39mStopping\u001b[0m                                          \u001b[34m3.7s \u001b[0m\n",
      "\u001b[?25h\u001b[1A\u001b[1A\u001b[0G\u001b[?25l[+] Running 0/1\n",
      " ⠧ Container clickhouse  \u001b[39mStopping\u001b[0m                                          \u001b[34m3.8s \u001b[0m\n",
      "\u001b[?25h\u001b[1A\u001b[1A\u001b[0G\u001b[?25l[+] Running 0/1\n",
      " ⠇ Container clickhouse  \u001b[39mStopping\u001b[0m                                          \u001b[34m3.9s \u001b[0m\n",
      "\u001b[?25h\u001b[1A\u001b[1A\u001b[0G\u001b[?25l[+] Running 0/1\n",
      " ⠏ Container clickhouse  \u001b[39mStopping\u001b[0m                                          \u001b[34m4.0s \u001b[0m\n",
      "\u001b[?25h\u001b[1A\u001b[1A\u001b[0G\u001b[?25l[+] Running 0/1\n",
      " ⠋ Container clickhouse  \u001b[39mStopping\u001b[0m                                          \u001b[34m4.1s \u001b[0m\n",
      "\u001b[?25h\u001b[1A\u001b[1A\u001b[0G\u001b[?25l[+] Running 0/1\n",
      " ⠙ Container clickhouse  \u001b[39mStopping\u001b[0m                                          \u001b[34m4.2s \u001b[0m\n",
      "\u001b[?25h\u001b[1A\u001b[1A\u001b[0G\u001b[?25l[+] Running 0/1\n",
      " ⠹ Container clickhouse  \u001b[39mStopping\u001b[0m                                          \u001b[34m4.3s \u001b[0m\n",
      "\u001b[?25h\u001b[1A\u001b[1A\u001b[0G\u001b[?25l[+] Running 0/1\n",
      " ⠸ Container clickhouse  \u001b[39mStopping\u001b[0m                                          \u001b[34m4.4s \u001b[0m\n",
      "\u001b[?25h\u001b[1A\u001b[1A\u001b[0G\u001b[?25l[+] Running 0/1\n",
      " ⠼ Container clickhouse  \u001b[39mStopping\u001b[0m                                          \u001b[34m4.5s \u001b[0m\n",
      "\u001b[?25h\u001b[1A\u001b[1A\u001b[0G\u001b[?25l[+] Running 0/1\n",
      " ⠴ Container clickhouse  \u001b[39mStopping\u001b[0m                                          \u001b[34m4.6s \u001b[0m\n",
      "\u001b[?25h\u001b[1A\u001b[1A\u001b[0G\u001b[?25l[+] Running 0/1\n",
      " ⠦ Container clickhouse  \u001b[39mStopping\u001b[0m                                          \u001b[34m4.7s \u001b[0m\n",
      "\u001b[?25h\u001b[1A\u001b[1A\u001b[0G\u001b[?25l[+] Running 0/1\n",
      " ⠧ Container clickhouse  \u001b[39mStopping\u001b[0m                                          \u001b[34m4.8s \u001b[0m\n",
      "\u001b[?25h\u001b[1A\u001b[1A\u001b[0G\u001b[?25l[+] Running 0/1\n",
      " ⠇ Container clickhouse  \u001b[39mStopping\u001b[0m                                          \u001b[34m4.9s \u001b[0m\n",
      "\u001b[?25h\u001b[1A\u001b[1A\u001b[0G\u001b[?25l[+] Running 0/1\n",
      " ⠏ Container clickhouse  \u001b[39mStopping\u001b[0m                                          \u001b[34m5.0s \u001b[0m\n",
      "\u001b[?25h\u001b[1A\u001b[1A\u001b[0G\u001b[?25l[+] Running 0/1\n",
      " ⠋ Container clickhouse  \u001b[39mStopping\u001b[0m                                          \u001b[34m5.1s \u001b[0m\n",
      "\u001b[?25h\u001b[1A\u001b[1A\u001b[0G\u001b[?25l[+] Running 0/1\n",
      " ⠙ Container clickhouse  \u001b[39mStopping\u001b[0m                                          \u001b[34m5.2s \u001b[0m\n",
      "\u001b[?25h\u001b[1A\u001b[1A\u001b[0G\u001b[?25l[+] Running 0/1\n",
      " ⠹ Container clickhouse  \u001b[39mStopping\u001b[0m                                          \u001b[34m5.3s \u001b[0m\n",
      "\u001b[?25h\u001b[1A\u001b[1A\u001b[0G\u001b[?25l[+] Running 0/1\n",
      " ⠸ Container clickhouse  \u001b[39mStopping\u001b[0m                                          \u001b[34m5.4s \u001b[0m\n",
      "\u001b[?25h\u001b[1A\u001b[1A\u001b[0G\u001b[?25l[+] Running 0/1\n",
      " ⠼ Container clickhouse  \u001b[39mStopping\u001b[0m                                          \u001b[34m5.5s \u001b[0m\n",
      "\u001b[?25h\u001b[1A\u001b[1A\u001b[0G\u001b[?25l[+] Running 0/1\n",
      " ⠴ Container clickhouse  \u001b[39mStopping\u001b[0m                                          \u001b[34m5.6s \u001b[0m\n",
      "\u001b[?25h\u001b[1A\u001b[1A\u001b[0G\u001b[?25l[+] Running 0/1\n",
      " ⠦ Container clickhouse  \u001b[39mStopping\u001b[0m                                          \u001b[34m5.7s \u001b[0m\n",
      "\u001b[?25h\u001b[1A\u001b[1A\u001b[0G\u001b[?25l[+] Running 0/1\n",
      " ⠧ Container clickhouse  \u001b[39mStopping\u001b[0m                                          \u001b[34m5.8s \u001b[0m\n",
      "\u001b[?25h\u001b[1A\u001b[1A\u001b[0G\u001b[?25l[+] Running 0/1\n",
      " ⠇ Container clickhouse  \u001b[39mStopping\u001b[0m                                          \u001b[34m5.9s \u001b[0m\n",
      "\u001b[?25h\u001b[1A\u001b[1A\u001b[0G\u001b[?25l[+] Running 0/1\n",
      " ⠏ Container clickhouse  \u001b[39mStopping\u001b[0m                                          \u001b[34m6.0s \u001b[0m\n",
      "\u001b[?25h\u001b[1A\u001b[1A\u001b[0G\u001b[?25l[+] Running 0/1\n",
      " ⠿ Container clickhouse  \u001b[39mRemoving\u001b[0m                                          \u001b[34m6.1s \u001b[0m\n",
      "\u001b[?25h\u001b[1A\u001b[1A\u001b[0G\u001b[?25l[+] Running 0/1\n",
      " ⠿ Container clickhouse  \u001b[39mRemoving\u001b[0m                                          \u001b[34m6.2s \u001b[0m\n",
      "\u001b[?25h\u001b[1A\u001b[1A\u001b[0G\u001b[?25l[+] Running 0/1\n",
      " ⠿ Container clickhouse  \u001b[39mRemoving\u001b[0m                                          \u001b[34m6.3s \u001b[0m\n",
      "\u001b[?25h\u001b[1A\u001b[1A\u001b[0G\u001b[?25l[+] Running 0/1\n",
      " ⠿ Container clickhouse  \u001b[39mRemoving\u001b[0m                                          \u001b[34m6.4s \u001b[0m\n",
      "\u001b[?25h\u001b[1A\u001b[1A\u001b[0G\u001b[?25l[+] Running 0/1\n",
      " ⠿ Container clickhouse  \u001b[39mRemoving\u001b[0m                                          \u001b[34m6.5s \u001b[0m\n",
      "\u001b[?25h\u001b[1A\u001b[1A\u001b[0G\u001b[?25l[+] Running 0/1\n",
      " ⠿ Container clickhouse  \u001b[39mRemoving\u001b[0m                                          \u001b[34m6.6s \u001b[0m\n",
      "\u001b[?25h\u001b[1A\u001b[1A\u001b[0G\u001b[?25l[+] Running 0/1\n",
      " ⠿ Container clickhouse  \u001b[39mRemoving\u001b[0m                                          \u001b[34m6.7s \u001b[0m\n",
      "\u001b[?25h\u001b[1A\u001b[1A\u001b[0G\u001b[?25l[+] Running 0/1\n",
      " ⠿ Container clickhouse  \u001b[39mRemoving\u001b[0m                                          \u001b[34m6.8s \u001b[0m\n",
      "\u001b[?25h\u001b[1A\u001b[1A\u001b[0G\u001b[?25l[+] Running 0/1\n",
      " ⠿ Container clickhouse  \u001b[39mRemoving\u001b[0m                                          \u001b[34m6.9s \u001b[0m\n",
      "\u001b[?25h\u001b[1A\u001b[1A\u001b[0G\u001b[?25l[+] Running 0/1\n",
      " ⠿ Container clickhouse  \u001b[39mRemoving\u001b[0m                                          \u001b[34m7.0s \u001b[0m\n",
      "\u001b[?25h\u001b[1A\u001b[1A\u001b[0G\u001b[?25l[+] Running 0/1\n",
      " ⠿ Container clickhouse  \u001b[39mRemoving\u001b[0m                                          \u001b[34m7.1s \u001b[0m\n",
      "\u001b[?25h\u001b[1A\u001b[1A\u001b[0G\u001b[?25l[+] Running 0/1\n",
      " ⠿ Container clickhouse  \u001b[39mRemoving\u001b[0m                                          \u001b[34m7.2s \u001b[0m\n",
      "\u001b[?25h\u001b[1A\u001b[1A\u001b[0G\u001b[?25l\u001b[34m[+] Running 1/1\u001b[0m\n",
      " \u001b[32m✔\u001b[0m Container clickhouse        \u001b[32mRemoved\u001b[0m                                     \u001b[34m7.2s \u001b[0m\n",
      " ⠋ Network clickhouse_default  \u001b[39mRemoving\u001b[0m                                    \u001b[34m0.0s \u001b[0m\n",
      "\u001b[?25h\u001b[1A\u001b[1A\u001b[1A\u001b[0G\u001b[?25l[+] Running 1/2\n",
      " \u001b[32m✔\u001b[0m Container clickhouse        \u001b[32mRemoved\u001b[0m                                     \u001b[34m7.2s \u001b[0m\n",
      " ⠙ Network clickhouse_default  \u001b[39mRemoving\u001b[0m                                    \u001b[34m0.1s \u001b[0m\n",
      "\u001b[?25h\u001b[1A\u001b[1A\u001b[1A\u001b[0G\u001b[?25l[+] Running 1/2\n",
      " \u001b[32m✔\u001b[0m Container clickhouse        \u001b[32mRemoved\u001b[0m                                     \u001b[34m7.2s \u001b[0m\n",
      " ⠹ Network clickhouse_default  \u001b[39mRemoving\u001b[0m                                    \u001b[34m0.2s \u001b[0m\n",
      "\u001b[?25h\u001b[1A\u001b[1A\u001b[1A\u001b[0G\u001b[?25l\u001b[34m[+] Running 2/2\u001b[0m\n",
      " \u001b[32m✔\u001b[0m Container clickhouse        \u001b[32mRemoved\u001b[0m                                     \u001b[34m7.2s \u001b[0m\n",
      " \u001b[32m✔\u001b[0m Network clickhouse_default  \u001b[32mRemoved\u001b[0m                                     \u001b[34m0.3s \u001b[0m\n",
      "\u001b[?25h"
     ]
    }
   ],
   "source": [
    "!docker compose down -v"
   ]
  },
  {
   "cell_type": "code",
   "execution_count": null,
   "metadata": {},
   "outputs": [],
   "source": [
    "import time\n",
    "import statistics\n",
    "import uuid\n",
    "from faker import Faker\n",
    "\n",
    "from clickhouse_driver import Client"
   ]
  },
  {
   "cell_type": "code",
   "execution_count": 2,
   "metadata": {},
   "outputs": [],
   "source": [
    "client = Client(host=\"localhost\") "
   ]
  },
  {
   "cell_type": "code",
   "execution_count": 3,
   "metadata": {},
   "outputs": [
    {
     "data": {
      "text/plain": [
       "[]"
      ]
     },
     "execution_count": 3,
     "metadata": {},
     "output_type": "execute_result"
    }
   ],
   "source": [
    "client.execute(\"CREATE DATABASE IF NOT EXISTS benchmark\")"
   ]
  },
  {
   "cell_type": "code",
   "execution_count": 4,
   "metadata": {},
   "outputs": [
    {
     "data": {
      "text/plain": [
       "[]"
      ]
     },
     "execution_count": 4,
     "metadata": {},
     "output_type": "execute_result"
    }
   ],
   "source": [
    "client.execute(\"DROP TABLE IF EXISTS benchmark.film_timestamp\")"
   ]
  },
  {
   "cell_type": "code",
   "execution_count": 5,
   "metadata": {},
   "outputs": [
    {
     "data": {
      "text/plain": [
       "[]"
      ]
     },
     "execution_count": 5,
     "metadata": {},
     "output_type": "execute_result"
    }
   ],
   "source": [
    "create_sql = \"\"\"\n",
    "CREATE TABLE IF NOT EXISTS benchmark.film_timestamp (\n",
    "      user_id UUID,\n",
    "      film_id UUID,\n",
    "      film_timestamp DateTime('Europe/Moscow'),\n",
    "      event_time DateTime('Europe/Moscow'))\n",
    "      Engine=MergeTree() PARTITION BY toYYYYMMDD(event_time) order by user_id;\n",
    "\"\"\"\n",
    "client.execute(create_sql)"
   ]
  },
  {
   "cell_type": "code",
   "execution_count": 6,
   "metadata": {},
   "outputs": [
    {
     "data": {
      "text/plain": [
       "[(0,)]"
      ]
     },
     "execution_count": 6,
     "metadata": {},
     "output_type": "execute_result"
    }
   ],
   "source": [
    "client.execute(\"select count(1) from benchmark.film_timestamp\")"
   ]
  },
  {
   "cell_type": "code",
   "execution_count": 9,
   "metadata": {},
   "outputs": [],
   "source": [
    "def generate_random_data(num_rows_per_chunk: int, iteration: int):\n",
    "    chunk = []\n",
    "    fake = Faker()\n",
    "\n",
    "    event_time = fake.date_time_between()\n",
    "    for i in range(iteration*num_rows_per_chunk):\n",
    "        film_time = fake.date_time_between()\n",
    "        \n",
    "        chunk.append((str(uuid.uuid4()), str(uuid.uuid4()), film_time, event_time))\n",
    "\n",
    "        if len(chunk) == num_rows_per_chunk:\n",
    "            yield chunk\n",
    "            chunk = []\n",
    "            event_time = fake.date_time_between()\n",
    "\n",
    "    yield chunk"
   ]
  },
  {
   "cell_type": "code",
   "execution_count": 10,
   "metadata": {},
   "outputs": [],
   "source": [
    "class ProfileCode:\n",
    "    def __init__(self):\n",
    "        self.start = time.time()\n",
    "        self.all_durations = []\n",
    "        \n",
    "    def setup_start_time(self):\n",
    "        self.start = time.time()\n",
    "\n",
    "    def checkpoint(self):\n",
    "        end_time = time.time()\n",
    "        self.all_durations.append(end_time - self.start)\n",
    "        self.start = end_time\n",
    "\n",
    "    def __enter__(self):\n",
    "        return self\n",
    "\n",
    "    def __exit__(self, type, value, traceback):\n",
    "        print(f\"Median - {statistics.median(self.all_durations)}\")\n",
    "        avg = sum(self.all_durations) / len(self.all_durations)\n",
    "        print(f\"Average - {statistics.mean(self.all_durations)}\")\n",
    "        print(f\"Summary - {sum(self.all_durations)}\")"
   ]
  },
  {
   "cell_type": "code",
   "execution_count": 11,
   "metadata": {},
   "outputs": [
    {
     "name": "stdout",
     "output_type": "stream",
     "text": [
      "Median - 0.039830684661865234\n",
      "Average - 0.04410535058398535\n",
      "Summary - 88.25480651855469\n"
     ]
    }
   ],
   "source": [
    "with ProfileCode() as profiler:\n",
    "    for chunk in generate_random_data(500, 2000):\n",
    "        profiler.setup_start_time()\n",
    "        client.execute(\n",
    "                    f\"INSERT INTO benchmark.film_timestamp  (user_id, film_id, film_timestamp, event_time) VALUES\",\n",
    "                    chunk,\n",
    "                )\n",
    "        profiler.checkpoint()"
   ]
  },
  {
   "cell_type": "code",
   "execution_count": 12,
   "metadata": {},
   "outputs": [
    {
     "name": "stdout",
     "output_type": "stream",
     "text": [
      "Median - 0.008498907089233398\n",
      "Average - 0.009264890460119671\n",
      "Summary - 18.539045810699463\n"
     ]
    }
   ],
   "source": [
    "with ProfileCode() as profiler:\n",
    "    for chunk in generate_random_data(1, 2000):\n",
    "        profiler.setup_start_time()\n",
    "        client.execute(\n",
    "                    f\"INSERT INTO benchmark.film_timestamp  (user_id, film_id, film_timestamp, event_time) VALUES\",\n",
    "                    chunk,\n",
    "                )\n",
    "        profiler.checkpoint()"
   ]
  },
  {
   "cell_type": "code",
   "execution_count": 13,
   "metadata": {},
   "outputs": [],
   "source": [
    "num_uuids = 100\n",
    "uuids = [str(u[0]) for u in client.execute(f\"SELECT user_id FROM benchmark.film_timestamp LIMIT {num_uuids}\")]"
   ]
  },
  {
   "cell_type": "code",
   "execution_count": 14,
   "metadata": {},
   "outputs": [
    {
     "name": "stdout",
     "output_type": "stream",
     "text": [
      "Median - 0.23672997951507568\n",
      "Average - 0.25865265607833865\n",
      "Summary - 25.865265607833862\n"
     ]
    }
   ],
   "source": [
    "with ProfileCode() as profiler:\n",
    "    for u in uuids:\n",
    "        profiler.setup_start_time()\n",
    "        client.execute(f\"SELECT * FROM benchmark.film_timestamp where user_id='{u}'\")\n",
    "        profiler.checkpoint()"
   ]
  }
 ],
 "metadata": {
  "kernelspec": {
   "display_name": "venv",
   "language": "python",
   "name": "python3"
  },
  "language_info": {
   "codemirror_mode": {
    "name": "ipython",
    "version": 3
   },
   "file_extension": ".py",
   "mimetype": "text/x-python",
   "name": "python",
   "nbconvert_exporter": "python",
   "pygments_lexer": "ipython3",
   "version": "3.8.10"
  },
  "orig_nbformat": 4
 },
 "nbformat": 4,
 "nbformat_minor": 2
}
