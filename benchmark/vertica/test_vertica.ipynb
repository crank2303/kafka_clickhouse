{
 "cells": [
  {
   "cell_type": "code",
   "execution_count": null,
   "metadata": {},
   "outputs": [],
   "source": [
    "! hg67docker run -p 5433:5433 jbfavre/vertica:latest "
   ]
  },
  {
   "cell_type": "code",
   "execution_count": 49,
   "metadata": {},
   "outputs": [],
   "source": [
    "import statistics\n",
    "import time\n",
    "import uuid\n",
    "from faker import Faker\n",
    "\n",
    "import vertica_python\n",
    "from vertica_python.vertica.cursor import Cursor"
   ]
  },
  {
   "cell_type": "code",
   "execution_count": 50,
   "metadata": {},
   "outputs": [],
   "source": [
    "def generate_random_data(num_rows_per_chunk: int, iteration: int):\n",
    "    chunk = []\n",
    "    fake = Faker()\n",
    "\n",
    "    event_time = fake.date_time_between()\n",
    "    for i in range(iteration*num_rows_per_chunk):\n",
    "        film_time = fake.date_time_between()\n",
    "        \n",
    "        chunk.append((str(uuid.uuid4()), str(uuid.uuid4()), film_time, event_time))\n",
    "\n",
    "        if len(chunk) == num_rows_per_chunk:\n",
    "            yield chunk\n",
    "            chunk = []\n",
    "            event_time = fake.date_time_between()\n",
    "\n",
    "    yield chunk"
   ]
  },
  {
   "cell_type": "code",
   "execution_count": 51,
   "metadata": {},
   "outputs": [],
   "source": [
    "class ProfileCode:\n",
    "    def __init__(self):\n",
    "        self.start = time.time()\n",
    "        self.all_durations = []\n",
    "        \n",
    "    def setup_start_time(self):\n",
    "        self.start = time.time()\n",
    "\n",
    "    def checkpoint(self):\n",
    "        end_time = time.time()\n",
    "        self.all_durations.append(end_time - self.start)\n",
    "        self.start = end_time\n",
    "\n",
    "    def __enter__(self):\n",
    "        return self\n",
    "\n",
    "    def __exit__(self, type, value, traceback):\n",
    "        print(f\"Median - {statistics.median(self.all_durations)}\")\n",
    "        print(f\"Average - {statistics.mean(self.all_durations)}\")\n",
    "        print(f\"Summary - {sum(self.all_durations)}\")"
   ]
  },
  {
   "cell_type": "code",
   "execution_count": 52,
   "metadata": {},
   "outputs": [],
   "source": [
    "dsl = {\n",
    "        \"host\": \"127.0.0.1\",\n",
    "        \"port\": 5433,\n",
    "        \"user\": \"dbadmin\",\n",
    "        \"password\": \"\",\n",
    "        \"database\": \"docker\",\n",
    "        \"autocommit\": True,\n",
    "    }\n",
    "conn = vertica_python.connect(**dsl)\n",
    "cur = conn.cursor()\n",
    "\n"
   ]
  },
  {
   "cell_type": "code",
   "execution_count": 53,
   "metadata": {},
   "outputs": [
    {
     "data": {
      "text/plain": [
       "[]"
      ]
     },
     "execution_count": 53,
     "metadata": {},
     "output_type": "execute_result"
    }
   ],
   "source": [
    "cur.execute(\"DROP TABLE IF EXISTS film_timestamp\")\n",
    "cur.fetchall()"
   ]
  },
  {
   "cell_type": "code",
   "execution_count": 54,
   "metadata": {},
   "outputs": [
    {
     "data": {
      "text/plain": [
       "[]"
      ]
     },
     "execution_count": 54,
     "metadata": {},
     "output_type": "execute_result"
    }
   ],
   "source": [
    "cur.execute(\n",
    "    \"\"\"CREATE TABLE IF NOT EXISTS film_timestamp (\n",
    "      user_id UUID,\n",
    "      film_id UUID,\n",
    "      film_timestamp DateTime,\n",
    "      event_time DateTime);\"\"\"\n",
    ")\n",
    "cur.fetchall()"
   ]
  },
  {
   "cell_type": "code",
   "execution_count": 55,
   "metadata": {},
   "outputs": [
    {
     "data": {
      "text/plain": [
       "[[0]]"
      ]
     },
     "execution_count": 55,
     "metadata": {},
     "output_type": "execute_result"
    }
   ],
   "source": [
    "cur.execute(\"select count(1) from film_timestamp\")\n",
    "cur.fetchall()"
   ]
  },
  {
   "cell_type": "code",
   "execution_count": 56,
   "metadata": {},
   "outputs": [
    {
     "name": "stdout",
     "output_type": "stream",
     "text": [
      "Median - 0.09530496597290039\n",
      "Average - 0.10165396098909468\n",
      "Summary - 203.40957593917847\n"
     ]
    }
   ],
   "source": [
    "with ProfileCode() as profiler:\n",
    "    for chunk in generate_random_data(500, 2000):\n",
    "        profiler.setup_start_time()\n",
    "        cur.executemany(\n",
    "                    f\"INSERT INTO film_timestamp  (user_id, film_id, film_timestamp, event_time) VALUES (%s, %s, %s, %s)\",\n",
    "                    chunk,\n",
    "                )\n",
    "        profiler.checkpoint()"
   ]
  },
  {
   "cell_type": "code",
   "execution_count": 57,
   "metadata": {},
   "outputs": [
    {
     "name": "stdout",
     "output_type": "stream",
     "text": [
      "Median - 0.06139850616455078\n",
      "Average - 0.06207757327390992\n",
      "Summary - 124.21722412109375\n"
     ]
    }
   ],
   "source": [
    "with ProfileCode() as profiler:\n",
    "    for chunk in generate_random_data(1, 2000):\n",
    "        profiler.setup_start_time()\n",
    "        cur.executemany(\n",
    "                    f\"INSERT INTO film_timestamp  (user_id, film_id, film_timestamp, event_time) VALUES (%s, %s, %s, %s)\",\n",
    "                    chunk,\n",
    "                )\n",
    "        profiler.checkpoint()"
   ]
  },
  {
   "cell_type": "code",
   "execution_count": 58,
   "metadata": {},
   "outputs": [],
   "source": [
    "num_uuids = 100\n",
    "cur.execute(f\"SELECT user_id FROM film_timestamp LIMIT {num_uuids}\")\n",
    "uuids = [str(u[0]) for u in cur.fetchall()]"
   ]
  },
  {
   "cell_type": "code",
   "execution_count": 59,
   "metadata": {},
   "outputs": [
    {
     "name": "stdout",
     "output_type": "stream",
     "text": [
      "Median - 0.018661975860595703\n",
      "Average - 0.02155735492706299\n",
      "Summary - 2.155735492706299\n"
     ]
    }
   ],
   "source": [
    "with ProfileCode() as profiler:\n",
    "    for u in uuids:\n",
    "        profiler.setup_start_time()\n",
    "        cur.execute(f\"SELECT * FROM film_timestamp where user_id='{u}'\")\n",
    "        profiler.checkpoint()"
   ]
  }
 ],
 "metadata": {
  "kernelspec": {
   "display_name": "Python 3",
   "language": "python",
   "name": "python3"
  },
  "language_info": {
   "codemirror_mode": {
    "name": "ipython",
    "version": 3
   },
   "file_extension": ".py",
   "mimetype": "text/x-python",
   "name": "python",
   "nbconvert_exporter": "python",
   "pygments_lexer": "ipython3",
   "version": "3.8.10"
  },
  "orig_nbformat": 4
 },
 "nbformat": 4,
 "nbformat_minor": 2
}
